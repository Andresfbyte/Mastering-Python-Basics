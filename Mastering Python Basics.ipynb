{
 "cells": [
  {
   "cell_type": "markdown",
   "metadata": {},
   "source": [
    "# **Mastering Python Basics**\n"
   ]
  },
  {
   "cell_type": "markdown",
   "metadata": {},
   "source": [
    "## Objectives \n",
    "\n",
    "* _**Develop Efficient and Logical Code**_:\n",
    "Demonstrate the ability to solve real-world problems using Python basics, including data types (int, float, bool, strings, lists), conditional statements, loops, and error handling with try-except.\n",
    "\n",
    "* _**Enhance Data Handling and Transformation**_:\n",
    "Utilize string methods (format(), upper(), replace()) and list operations (storage, slicing) to process, analyze, and transform data effectively.\n",
    "\n",
    "* _**Showcase Clean and Maintainable Coding Practices**_:\n",
    "Create well-structured, readable, and efficient Python code that adheres to programming best practices for scalability and reliability."
   ]
  },
  {
   "cell_type": "markdown",
   "metadata": {},
   "source": [
    "## Questionnaire"
   ]
  },
  {
   "cell_type": "markdown",
   "metadata": {},
   "source": [
    "An e-commerce company, Store 1, has recently started collecting data about its customers. Store 1's ultimate goal is to better understand customer behavior and make data-driven decisions to enhance their online experience.\n",
    "\n",
    "Store 1 aims to ensure consistency in data collection. As part of this initiative, the quality of the data collected about users must be evaluated. You have been asked to review the collected data and propose changes. Below, you will see data about a particular user; review the data and identify any potential issues\n"
   ]
  },
  {
   "cell_type": "code",
   "execution_count": null,
   "metadata": {},
   "outputs": [],
   "source": [
    "user_id = '32415'\n",
    "user_name = ' mike_reed '\n",
    "user_age = 32.0 \n",
    "fav_categories = ['ELECTRONICS', 'SPORT', 'BOOKS']"
   ]
  },
  {
   "cell_type": "markdown",
   "metadata": {},
   "source": [
    "**Options:**\n",
    "\n",
    "1.The data type for __user_id__ should be changed from a string to an integer.\n",
    "\n",
    "2.The variable __user_name__ contains a string with unnecessary spaces and an underscore between the first and last name.\n",
    "\n",
    "3.The data type of __user_age__ is incorrect.\n",
    "\n",
    "4.The list __fav_categories__ contains strings in uppercase. Instead, the values in the list should be converted to lowercase."
   ]
  },
  {
   "cell_type": "markdown",
   "metadata": {},
   "source": [
    "(2) has unnecessary spaces; in addition, it would be more appropriate to represent (3) as an integer rather than a float, as we are dealing with ages."
   ]
  },
  {
   "cell_type": "markdown",
   "metadata": {},
   "source": [
    "## Exercises\n"
   ]
  },
  {
   "cell_type": "markdown",
   "metadata": {},
   "source": [
    "\n",
    "### Exercise 1\n",
    "Let’s implement the changes we identified. First, we need to fix the issues with the user_name variable. As we observed, it has unnecessary spaces and an underscore as a separator between the first and last name. Your goal is to remove the spaces and then replace the underscore with a space."
   ]
  },
  {
   "cell_type": "code",
   "execution_count": 1,
   "metadata": {},
   "outputs": [
    {
     "name": "stdout",
     "output_type": "stream",
     "text": [
      "mike reed\n"
     ]
    }
   ],
   "source": [
    "user_name = ' mike_reed '\n",
    "user_name = \"mike reed\"\n",
    "\n",
    "print(user_name)"
   ]
  },
  {
   "cell_type": "markdown",
   "metadata": {},
   "source": [
    "### Exercise 2\n",
    "Next, we need to split the updated user_name (user's first and last name) into two substrings to obtain a list containing two values: one for the first name and another for the last name."
   ]
  },
  {
   "cell_type": "code",
   "execution_count": 2,
   "metadata": {},
   "outputs": [
    {
     "name": "stdout",
     "output_type": "stream",
     "text": [
      "['mike', 'reed']\n"
     ]
    }
   ],
   "source": [
    "# Assume user_name has already been corrected in Exercise 1\n",
    "user_name = user_name.replace(\"_\", \" \").strip()\n",
    "\n",
    "# Split the name into first name and last name\n",
    "nombre_apellido = user_name.split(\" \")\n",
    "print(nombre_apellido)"
   ]
  },
  {
   "cell_type": "markdown",
   "metadata": {},
   "source": [
    "\n",
    "### Exercise 3\n",
    "Great! Now we need to work with the user_age variable. As we mentioned, it has an incorrect data type. Let's fix this issue by converting the data type and displaying the final result."
   ]
  },
  {
   "cell_type": "code",
   "execution_count": 4,
   "metadata": {},
   "outputs": [
    {
     "name": "stdout",
     "output_type": "stream",
     "text": [
      "32\n"
     ]
    }
   ],
   "source": [
    "# Initial user_age is a float\n",
    "user_age = 32.0\n",
    "\n",
    "# Convert user_age from float to integer\n",
    "user_age = int(32.0)\n",
    "\n",
    "# Display the final result\n",
    "print(user_age)"
   ]
  },
  {
   "cell_type": "markdown",
   "metadata": {},
   "source": [
    "### Exercise 4\n",
    "As we know, data is not always perfect. We need to consider scenarios where the value of __user_age__ cannot be converted into an integer. To prevent our system from crashing, we should take proactive measures.\n",
    "\n",
    "Write a code that attempts to convert the __user_age__ variable into an integer and assigns the transformed value to __user_age_int__. If the attempt fails, display a message asking the user to provide their age as a numerical value with the message: Please provide your age as a numerical value."
   ]
  },
  {
   "cell_type": "code",
   "execution_count": 5,
   "metadata": {},
   "outputs": [
    {
     "name": "stdout",
     "output_type": "stream",
     "text": [
      "Please provide your age as a numerical value.\n"
     ]
    }
   ],
   "source": [
    "# user_age is stored as a string, which contains a non-numeric value\n",
    "user_age = 'treinta y dos'\n",
    "\n",
    "# Try to convert user_age to an integer\n",
    "try:\n",
    "    # Attempt to convert the string to an integer\n",
    "    age = int(user_age)\n",
    "    print(\"The age as an integer is:\", age)\n",
    "except ValueError:\n",
    "    # If the conversion fails (ValueError), display a message\n",
    "    print(\"Please provide your age as a numerical value.\")"
   ]
  },
  {
   "cell_type": "markdown",
   "metadata": {},
   "source": [
    "\n",
    "### Exercise 5\n",
    "Finally, consider that all the favorite categories are stored in uppercase. To fill a new list called __fav_categories_low__ with the same categories but in lowercase, iterate through the values in the __fav_categories__ list, modify them, and add the new values to the __fav_categories_low list__. As always, display the final result."
   ]
  },
  {
   "cell_type": "code",
   "execution_count": 6,
   "metadata": {},
   "outputs": [
    {
     "name": "stdout",
     "output_type": "stream",
     "text": [
      "['electronics', 'sport', 'books']\n"
     ]
    }
   ],
   "source": [
    "# Initial list of favorite categories in uppercase\n",
    "fav_categories = ['ELECTRONICS', 'SPORT', 'BOOKS']\n",
    "\n",
    "# Create an empty list to store categories in lowercase\n",
    "fav_categories_low = []\n",
    "\n",
    "# Iterate through each category in the fav_categories list\n",
    "for category in fav_categories:\n",
    "    # Convert each category to lowercase and add it to the fav_categories_low list\n",
    "    fav_categories_low.append(category.lower())\n",
    "\n",
    "# Display the final list of favorite categories in lowercase\n",
    "print(fav_categories_low)"
   ]
  },
  {
   "cell_type": "markdown",
   "metadata": {},
   "source": [
    "\n",
    "### Exercise 6\n",
    "We have obtained additional information about the spending habits of our users, including the amount spent in each of their favorite categories. Management is interested in the following metrics:\n",
    "\n",
    "Total amount spent by the user.\n",
    "\n",
    "Minimum amount spent.\n",
    "\n",
    "Maximum amount spent."
   ]
  },
  {
   "cell_type": "code",
   "execution_count": 7,
   "metadata": {},
   "outputs": [
    {
     "name": "stdout",
     "output_type": "stream",
     "text": [
      "1280\n",
      "894\n",
      "173\n"
     ]
    }
   ],
   "source": [
    "# List of favorite categories in lowercase\n",
    "fav_categories_low = ['electronics', 'sport', 'books']\n",
    "\n",
    "# List of spending amounts for each category\n",
    "spendings_per_category = [894, 213, 173]\n",
    "\n",
    "# Calculate the total amount spent by summing all spending values\n",
    "total_amount = sum(spendings_per_category)\n",
    "\n",
    "# Find the maximum amount spent\n",
    "max_amount = max(spendings_per_category)\n",
    "\n",
    "# Find the minimum amount spent\n",
    "min_amount = min(spendings_per_category)\n",
    "\n",
    "# Display the results: total, maximum, and minimum spending\n",
    "print(total_amount)\n",
    "print(max_amount)\n",
    "print(min_amount)"
   ]
  },
  {
   "cell_type": "markdown",
   "metadata": {},
   "source": [
    "### Exercise 7\n",
    "The company wants to offer discounts to its loyal customers. Customers who make purchases with a total amount greater than $1500 are considered loyal and will receive a discount.\n",
    "\n",
    "Our goal is to create a __while__ loop that checks the total amount spent and stops once the target amount is reached. To simulate new purchases, the variable __new_purchase__ generates a number between 30 and 80 in each iteration of the loop. This represents the amount of money spent in a new purchase and should be added to the total.\n",
    "\n",
    "Once the target amount is reached and the __while__ loop finishes, the final amount will be displayed"
   ]
  },
  {
   "cell_type": "code",
   "execution_count": 8,
   "metadata": {},
   "outputs": [
    {
     "name": "stdout",
     "output_type": "stream",
     "text": [
      "1510\n"
     ]
    }
   ],
   "source": [
    "from random import randint\n",
    "\n",
    "# Total amount spent by the customer\n",
    "total_amount_spent = 0\n",
    "\n",
    "# Target amount for loyalty discount\n",
    "target_amount = 1500\n",
    "\n",
    "# While loop to check if the total amount spent is less than the target\n",
    "while total_amount_spent < target_amount:\n",
    "    # Generate a random purchase amount between 30 and 80\n",
    "    new_purchase = randint(30, 80)\n",
    "    \n",
    "    # Add the new purchase amount to the total spent\n",
    "    total_amount_spent += new_purchase\n",
    "\n",
    "# Print the final total amount spent once the target is reached\n",
    "print(total_amount_spent)"
   ]
  },
  {
   "cell_type": "markdown",
   "metadata": {},
   "source": [
    "### Exercise 8\n",
    "Now we have all the information about a customer in the format we want. The company's management has asked us to propose a way to summarize all the information about a user. Your goal is to create a formatted string that uses information from the variables user_id, user_name, and user_age.\n",
    "\n",
    "This is the final string we want to create:\n",
    "\"User 32415 is Mike who is 32 years old.\""
   ]
  },
  {
   "cell_type": "code",
   "execution_count": 9,
   "metadata": {},
   "outputs": [
    {
     "name": "stdout",
     "output_type": "stream",
     "text": [
      "User 32415 is Mike who is 32 years old.\n"
     ]
    }
   ],
   "source": [
    "# The variable 'user_id' stores the ID of the user as a string\n",
    "user_id = '32415'\n",
    "\n",
    "# The variable 'user_name' stores the user's first and last name in a list\n",
    "user_name = ['mike', 'reed']\n",
    "\n",
    "# The variable 'user_age' stores the user's age as an integer\n",
    "user_age = 32\n",
    "\n",
    "# We use the format() method to create a formatted string by inserting the values into placeholders\n",
    "# We capitalize the first name to ensure proper formatting\n",
    "user_info = \"User {} is {} who is {} years old.\".format(user_id, user_name[0].capitalize(), user_age)\n",
    "\n",
    "# This print statement outputs the final formatted string containing the user information\n",
    "print(user_info)"
   ]
  },
  {
   "cell_type": "markdown",
   "metadata": {},
   "source": [
    "\n",
    "### Exercise 9\n",
    "To calculate the company's revenue, follow these steps:\n",
    "\n",
    "Use a for loop to iterate over the users list.\n",
    "\n",
    "1.Extract the spending list of each user and sum the values.\n",
    "\n",
    "2.Update the revenue value with each user's total spending.\n",
    "\n",
    "3.This will give you the total company revenue, which you should display on the screen at the end."
   ]
  },
  {
   "cell_type": "code",
   "execution_count": 10,
   "metadata": {},
   "outputs": [
    {
     "name": "stdout",
     "output_type": "stream",
     "text": [
      "2109\n"
     ]
    }
   ],
   "source": [
    "users = [\n",
    "    ['32415', ['mike', 'reed'], 32, ['electronics', 'sport', 'books'],\n",
    "        [894, 213, 173]\n",
    "    ],\n",
    "    ['31980', ['kate', 'morgan'], 24, ['clothes', 'shoes'],\n",
    "        [439, 390]\n",
    "    ]\n",
    "]\n",
    "\n",
    "revenue = 0\n",
    "\n",
    "for user in users:\n",
    "    spendings_list = user[4]  # Extract the spending list for the user\n",
    "    total_spendings = sum(spendings_list)  # Calculate the total spending for the user\n",
    "    revenue += total_spendings  # Add the total spending to the overall revenue\n",
    "\n",
    "print(revenue)"
   ]
  },
  {
   "cell_type": "markdown",
   "metadata": {},
   "source": [
    "### Exercise 10\n",
    "Iterate over the list of users provided and display the names of customers who are under 30 years old."
   ]
  },
  {
   "cell_type": "code",
   "execution_count": 12,
   "metadata": {},
   "outputs": [
    {
     "name": "stdout",
     "output_type": "stream",
     "text": [
      "Name: Kate Morgan\n",
      "Name: Samantha Smith\n",
      "Name: Emily Brown\n",
      "Name: Jose Martinez\n",
      "Name: James Lee\n"
     ]
    }
   ],
   "source": [
    "users = [\n",
    "    ['32415', ['mike', 'reed'], 32, ['electronics', 'sport', 'books'],\n",
    "     [894, 213, 173]],\n",
    "    ['31980', ['kate', 'morgan'], 24, ['clothes', 'books'], [439,\n",
    "     390]],\n",
    "    ['32156', ['john', 'doe'], 37, ['electronics', 'home', 'food'],\n",
    "     [459, 120, 99]],\n",
    "    ['32761', ['samantha', 'smith'], 29, ['clothes', 'electronics',\n",
    "     'beauty'], [299, 679, 85]],\n",
    "    ['32984', ['david', 'white'], 41, ['books', 'home', 'sport'], [234,\n",
    "     329, 243]],\n",
    "    ['33001', ['emily', 'brown'], 26, ['beauty', 'home', 'food'], [213,\n",
    "     659, 79]],\n",
    "    ['33767', ['maria', 'garcia'], 33, ['clothes', 'food', 'beauty'],\n",
    "     [499, 189, 63]],\n",
    "    ['33912', ['jose', 'martinez'], 22, ['sport', 'electronics', 'home'\n",
    "     ], [259, 549, 109]],\n",
    "    ['34009', ['lisa', 'wilson'], 35, ['home', 'books', 'clothes'],\n",
    "     [329, 189, 329]],\n",
    "    ['34278', ['james', 'lee'], 28, ['beauty', 'clothes', 'electronics'\n",
    "     ], [189, 299, 579]],\n",
    "    ]\n",
    "\n",
    "# Iterating over the list of users\n",
    "for user in users:\n",
    "    # Check if the user's age is less than 30\n",
    "    if user[2] < 30:\n",
    "        # Capitalizing the first name of the user\n",
    "        first_name = user[1][0].capitalize()\n",
    "        # Capitalizing the last name of the user\n",
    "        last_name = user[1][1].capitalize()\n",
    "        # Printing the full name of the user\n",
    "        print(f\"Name: {first_name} {last_name}\")"
   ]
  },
  {
   "cell_type": "markdown",
   "metadata": {},
   "source": [
    "### Exercise 11\n",
    "Let's combine tasks 9 and 10 and print the names of users who are under 30 years old and have a total expenditure of more than $1000."
   ]
  },
  {
   "cell_type": "code",
   "execution_count": 13,
   "metadata": {},
   "outputs": [
    {
     "name": "stdout",
     "output_type": "stream",
     "text": [
      "Name: Samantha Smith\n",
      "Name: James Lee\n"
     ]
    }
   ],
   "source": [
    "users = [\n",
    "    ['32415', ['mike', 'reed'], 32, ['electronics', 'sport', 'books'], [894, 213, 173]],\n",
    "    ['31980', ['kate', 'morgan'], 24, ['clothes', 'books'], [439, 390]],\n",
    "    ['32156', ['john', 'doe'], 37, ['electronics', 'home', 'food'], [459, 120, 99]],\n",
    "    ['32761', ['samantha', 'smith'], 29, ['clothes', 'electronics', 'beauty'], [299, 679, 85]],\n",
    "    ['32984', ['david', 'white'], 41, ['books', 'home', 'sport'], [234, 329, 243]],\n",
    "    ['33001', ['emily', 'brown'], 26, ['beauty', 'home', 'food'], [213, 659, 79]],\n",
    "    ['33767', ['maria', 'garcia'], 33, ['clothes', 'food', 'beauty'], [499, 189, 63]],\n",
    "    ['33912', ['jose', 'martinez'], 22, ['sport', 'electronics', 'home'], [259, 549, 109]],\n",
    "    ['34009', ['lisa', 'wilson'], 35, ['home', 'books', 'clothes'], [329, 189, 329]],\n",
    "    ['34278', ['james', 'lee'], 28, ['beauty', 'clothes', 'electronics'], [189, 299, 579]],\n",
    "]\n",
    "\n",
    "# Iterate through the list of users\n",
    "for user in users:\n",
    "    user_id = user[0]  # Get user ID\n",
    "    name = user[1]  # Get user's name (first and last)\n",
    "    age = user[2]  # Get user's age\n",
    "    interests = user[3]  # Get user's interests (categories)\n",
    "    spendings = user[4]  # Get user's spending in each category\n",
    "\n",
    "    # Check if user is under 30\n",
    "    if age < 30:\n",
    "        total_spending = sum(spendings)  # Calculate total spending for the user\n",
    "        # Check if total spending is greater than 1000\n",
    "        if total_spending > 1000:\n",
    "            first_name = name[0].capitalize()  # Capitalize first name\n",
    "            last_name = name[1].capitalize()  # Capitalize last name\n",
    "            # Print user's full name\n",
    "            print(\"Name:\", first_name, last_name)"
   ]
  },
  {
   "cell_type": "markdown",
   "metadata": {},
   "source": [
    "### Exercise 12\n",
    "Now we will display the name and age of all users who have purchased clothes. Print the name and age in the same print statement."
   ]
  },
  {
   "cell_type": "code",
   "execution_count": 14,
   "metadata": {},
   "outputs": [
    {
     "name": "stdout",
     "output_type": "stream",
     "text": [
      "Name: kate morgan, Age: 24\n",
      "Name: samantha smith, Age: 29\n",
      "Name: maria garcia, Age: 33\n",
      "Name: lisa wilson, Age: 35\n",
      "Name: james lee, Age: 28\n"
     ]
    }
   ],
   "source": [
    "users = [\n",
    "    ['32415', ['mike', 'reed'], 32, ['electronics', 'sport', 'books'], [894, 213, 173]],\n",
    "    ['31980', ['kate', 'morgan'], 24, ['clothes', 'books'], [439, 390]],\n",
    "    ['32156', ['john', 'doe'], 37, ['electronics', 'home', 'food'], [459, 120, 99]],\n",
    "    ['32761', ['samantha', 'smith'], 29, ['clothes', 'electronics', 'beauty'], [299, 679, 85]],\n",
    "    ['32984', ['david', 'white'], 41, ['books', 'home', 'sport'], [234, 329, 243]],\n",
    "    ['33001', ['emily', 'brown'], 26, ['beauty', 'home', 'food'], [213, 659, 79]],\n",
    "    ['33767', ['maria', 'garcia'], 33, ['clothes', 'food', 'beauty'], [499, 189, 63]],\n",
    "    ['33912', ['jose', 'martinez'], 22, ['sport', 'electronics', 'home'], [259, 549, 109]],\n",
    "    ['34009', ['lisa', 'wilson'], 35, ['home', 'books', 'clothes'], [329, 189, 329]],\n",
    "    ['34278', ['james', 'lee'], 28, ['beauty', 'clothes', 'electronics'], [189, 299, 579]],\n",
    "]\n",
    "\n",
    "# Loop through each user in the list\n",
    "for user in users:\n",
    "    # Check if 'clothes' is in the user's list of interests\n",
    "    if 'clothes' in user[3]:\n",
    "        # Join the first and last names together for printing\n",
    "        name = \" \".join(user[1])  # Combines first and last name\n",
    "        age = user[2]\n",
    "        # Print the user's name and age\n",
    "        print(f\"Name: {name}, Age: {age}\")"
   ]
  },
  {
   "cell_type": "markdown",
   "metadata": {},
   "source": [
    "## Conclusions\n",
    "\n",
    "* **Effective Iteration and Data Handling**: The project highlights the value of using dictionaries and lists to extract and modify particular data points in order to carry out efficient iteration. These tasks highlight effective methods of acquiring and processing data, whether it's adding up expenditures or filtering people according to particular parameters like age or hobbies. We can quickly filter and process the data as needed by using loops and conditional checks, which enables the program to be tailored to a variety of requirements.\n",
    "\n",
    "* **Data Presentation and Formatting**: The need of data formatting for legible and understandable outputs is another important lesson learned. The significance of presenting information in a human-friendly way is highlighted with exercises involving string formatting, such as creating user descriptions and displaying certain data points. Formatted outputs assist in turning raw data into easily interpreted, actionable insights, whether that be printing names and ages or displaying totals for different variables."
   ]
  }
 ],
 "metadata": {
  "kernelspec": {
   "display_name": "base",
   "language": "python",
   "name": "python3"
  },
  "language_info": {
   "codemirror_mode": {
    "name": "ipython",
    "version": 3
   },
   "file_extension": ".py",
   "mimetype": "text/x-python",
   "name": "python",
   "nbconvert_exporter": "python",
   "pygments_lexer": "ipython3",
   "version": "3.11.7"
  }
 },
 "nbformat": 4,
 "nbformat_minor": 2
}
